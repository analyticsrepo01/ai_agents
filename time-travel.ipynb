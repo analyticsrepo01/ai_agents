{
 "cells": [
  {
   "cell_type": "markdown",
   "id": "51466c8d-8ce4-4b3d-be4e-18fdbeda5f53",
   "metadata": {},
   "source": [
    "# Get/Update State\n",
    "\n",
    "Once you start [checkpointing](./persistence.ipynb) your graphs, you can easily **get** or **update** the state of the agent at any point in time. This permits a few things:\n",
    "\n",
    "1. You can surface a state during an interrupt to a user to let them accept an action.\n",
    "2. You can **rewind** the graph to reproduce or avoid issues.\n",
    "3. You can **modify** the state to embed your agent into a larger system, or to let the user better control its actions.\n",
    "\n",
    "The key methods used for this functionality are:\n",
    "\n",
    "- [get_state](https://langchain-ai.github.io/langgraph/reference/graphs/#langgraph.graph.graph.CompiledGraph.get_state): fetch the values from the target config\n",
    "- [update_state](https://langchain-ai.github.io/langgraph/reference/graphs/#langgraph.graph.graph.CompiledGraph.update_state): apply the given values to the target state\n",
    "\n",
    "**Note:** this requires passing in a checkpointer.\n",
    "\n",
    "Below is a quick example.\n",
    "\n",
    "<div class=\"admonition tip\">\n",
    "    <p class=\"admonition-title\">Note:</p>\n",
    "    <p>\n",
    "        In this how-to, we will create our agent from scratch to be transparent (but verbose). You can accomplish similar functionality using the <code>create_react_agent(model, tools=tool, checkpointer=checkpointer)</code> (<a href=\"https://langchain-ai.github.io/langgraph/reference/prebuilt/#create_react_agent\">API doc</a>) constructor. This may be more appropriate if you are used to LangChain’s <a href=\"https://python.langchain.com/v0.1/docs/modules/agents/concepts/#agentexecutor\">AgentExecutor</a> class.\n",
    "    </p>\n",
    "</div>    "
   ]
  },
  {
   "cell_type": "markdown",
   "id": "7cbd446a-808f-4394-be92-d45ab818953c",
   "metadata": {},
   "source": [
    "## Setup\n",
    "\n",
    "First we need to install the packages required"
   ]
  },
  {
   "cell_type": "code",
   "execution_count": 1,
   "id": "af4ce0ba-7596-4e5f-8bf8-0b0bd6e62833",
   "metadata": {},
   "outputs": [],
   "source": [
    "# %%capture --no-stderr\n",
    "# %pip install --quiet -U langgraph "
   ]
  },
  {
   "cell_type": "markdown",
   "id": "0abe11f4-62ed-4dc4-8875-3db21e260d1d",
   "metadata": {},
   "source": [
    "Next, we need to set API keys for OpenAI (the LLM we will use) and Tavily (the search tool we will use)"
   ]
  },
  {
   "cell_type": "code",
   "execution_count": 2,
   "id": "c903a1cf-2977-4e2d-ad7d-8b3946821d89",
   "metadata": {},
   "outputs": [],
   "source": [
    "import os\n",
    "import getpass\n",
    "\n",
    "\n",
    "def _set_env(var: str):\n",
    "    if not os.environ.get(var):\n",
    "        os.environ[var] = getpass.getpass(f\"{var}: \")\n",
    "\n",
    "\n",
    "# _set_env(\"anth\")"
   ]
  },
  {
   "cell_type": "markdown",
   "id": "f0ed46a8-effe-4596-b0e1-a6a29ee16f5c",
   "metadata": {},
   "source": [
    "Optionally, we can set API key for [LangSmith tracing](https://smith.langchain.com/), which will give us best-in-class observability."
   ]
  },
  {
   "cell_type": "code",
   "execution_count": 3,
   "id": "95e25aec-7c9f-4a63-b143-225d0e9a79c3",
   "metadata": {},
   "outputs": [],
   "source": [
    "# os.environ[\"LANGCHAIN_TRACING_V2\"] = \"true\"\n",
    "# _set_env(\"LANGCHAIN_API_KEY\")"
   ]
  },
  {
   "cell_type": "markdown",
   "id": "e36f89e5",
   "metadata": {},
   "source": [
    "## Set up the State\n",
    "\n",
    "The state is the interface for all the nodes."
   ]
  },
  {
   "cell_type": "code",
   "execution_count": 4,
   "id": "f5319e01",
   "metadata": {},
   "outputs": [],
   "source": [
    "from typing_extensions import TypedDict\n",
    "from typing import Annotated\n",
    "from langgraph.graph.message import add_messages\n",
    "\n",
    "# `add_messages`` essentially does this\n",
    "# (with more robust handling)\n",
    "# def add_messages(left: list, right: list):\n",
    "#     return left + right\n",
    "\n",
    "\n",
    "class State(TypedDict):\n",
    "    messages: Annotated[list, add_messages]"
   ]
  },
  {
   "cell_type": "markdown",
   "id": "21ac643b-cb06-4724-a80c-2862ba4773f1",
   "metadata": {},
   "source": [
    "## Set up the tools\n",
    "\n",
    "We will first define the tools we want to use.\n",
    "For this simple example, we will use create a placeholder search engine.\n",
    "However, it is really easy to create your own tools - see documentation [here](https://python.langchain.com/docs/modules/agents/tools/custom_tools) on how to do that.\n"
   ]
  },
  {
   "cell_type": "code",
   "execution_count": 27,
   "id": "9bacffcb-47d5-499f-adaf-c941c250697f",
   "metadata": {
    "tags": []
   },
   "outputs": [],
   "source": [
    "os.environ['TAVILY_API_KEY'] = 'tvly-'\n",
    "tavily_api_key = os.getenv(\"TAVILY_API_KEY\") # Ensure this is set"
   ]
  },
  {
   "cell_type": "code",
   "execution_count": 28,
   "id": "d7ef57dd-5d6e-4ad3-9377-a92201c1310e",
   "metadata": {},
   "outputs": [],
   "source": [
    "from langchain_core.tools import tool\n",
    "\n",
    "\n",
    "@tool\n",
    "def search(query: str):\n",
    "    \"\"\"Call to surf the web.\"\"\"\n",
    "    # This is a placeholder for the actual implementation\n",
    "    return [\"The weather is cloudy with a chance of meatballs.\"]\n",
    "\n",
    "\n",
    "from langchain_community.tools.tavily_search import TavilySearchResults\n",
    "\n",
    "web_search_tool = TavilySearchResults(k=3)\n",
    "\n",
    "\n",
    "tools = [web_search_tool]"
   ]
  },
  {
   "cell_type": "markdown",
   "id": "01885785-b71a-44d1-b1d6-7b5b14d53b58",
   "metadata": {},
   "source": [
    "We can now wrap these tools in a simple ToolNode.\n",
    "This is a prebuilt node that extracts tool calls from the most recent AIMessage, executes them, and returns a ToolMessage with the results.\n"
   ]
  },
  {
   "cell_type": "code",
   "execution_count": 29,
   "id": "5cf3331e-ccb3-41c8-aeb9-a840a94d41e7",
   "metadata": {},
   "outputs": [],
   "source": [
    "from langgraph.prebuilt import ToolNode\n",
    "\n",
    "tool_node = ToolNode(tools)"
   ]
  },
  {
   "cell_type": "markdown",
   "id": "5497ed70-fce3-47f1-9cad-46f912bad6a5",
   "metadata": {},
   "source": [
    "## Set up the model\n",
    "\n",
    "Now we need to load the chat model we want to use.\n",
    "Importantly, this should satisfy two criteria:\n",
    "\n",
    "1. It should work with messages. We will represent all agent state in the form of messages, so it needs to be able to work well with them.\n",
    "2. It should work with OpenAI function calling. This means it should either be an OpenAI model or a model that exposes a similar interface.\n",
    "\n",
    "Note: these model requirements are not requirements for using LangGraph - they are just requirements for this one example."
   ]
  },
  {
   "cell_type": "code",
   "execution_count": 30,
   "id": "99a16754-d127-43a3-aaae-7bead32bb737",
   "metadata": {
    "tags": []
   },
   "outputs": [],
   "source": [
    "import re\n",
    "\n",
    "PROJECT_ID = !(gcloud config get-value core/project)\n",
    "PROJECT_ID = PROJECT_ID[0]\n",
    "\n",
    "SVC_ACC = !(gcloud config get-value core/account)\n",
    "SVC_ACC = SVC_ACC[0]\n",
    "\n",
    "PROJECT_NUMBER=str(re.search(r'\\d+', SVC_ACC).group())\n",
    "\n",
    "LOCATION=\"us-central1\"\n",
    "\n",
    "FOLDER_NAME=\".\""
   ]
  },
  {
   "cell_type": "code",
   "execution_count": 31,
   "id": "53473c0c-0d85-4656-be9c-979c565fc623",
   "metadata": {
    "tags": []
   },
   "outputs": [
    {
     "name": "stdout",
     "output_type": "stream",
     "text": [
      "================================\u001b[1m System Message \u001b[0m================================\n",
      "\n",
      "You are a helpful assistant.\n",
      "\n",
      "=============================\u001b[1m Messages Placeholder \u001b[0m=============================\n",
      "\n",
      "\u001b[33;1m\u001b[1;3m{{messages}}\u001b[0m\n"
     ]
    }
   ],
   "source": [
    "from langchain import hub\n",
    "# from langchain_openai import ChatOpenAI\n",
    "from langgraph.prebuilt import create_react_agent\n",
    "from vertexai.preview.vision_models import ImageGenerationModel\n",
    "from langchain_google_vertexai import ChatVertexAI\n",
    "import uuid, os\n",
    "\n",
    "# Initialize Gemini LLM\n",
    "llm = ChatVertexAI(\n",
    "    model_name=\"gemini-1.0-pro-002\", # Replace with your desired Gemini model\n",
    "    project_id=os.getenv(PROJECT_ID), # Your Vertex AI project ID\n",
    "    location=\"us-central1\", # Your Vertex AI location\n",
    ")\n",
    "\n",
    "# Get the prompt to use - you can modify this!\n",
    "prompt = hub.pull(\"wfh/react-agent-executor\")\n",
    "prompt.pretty_print()\n",
    "\n",
    "# Choose the LLM that will drive the agent\n",
    "# llm = ChatOpenAI(model=\"gpt-4-turbo-preview\")\n",
    "agent_executor = create_react_agent(llm, tools, messages_modifier=prompt)"
   ]
  },
  {
   "cell_type": "code",
   "execution_count": 32,
   "id": "892b54b9-75f0-4804-9ed0-88b5e5532989",
   "metadata": {},
   "outputs": [],
   "source": [
    "# from langchain_openai import ChatOpenAI\n",
    "\n",
    "model = llm # ChatOpenAI(temperature=0)"
   ]
  },
  {
   "cell_type": "markdown",
   "id": "a77995c0-bae2-4cee-a036-8688a90f05b9",
   "metadata": {},
   "source": [
    "\n",
    "After we've done this, we should make sure the model knows that it has these tools available to call.\n",
    "We can do this using the `.bind_tools()` method, common to many of LangChain's chat models.\n"
   ]
  },
  {
   "cell_type": "code",
   "execution_count": 33,
   "id": "cd3cbae5-d92c-4559-a4aa-44721b80d107",
   "metadata": {},
   "outputs": [],
   "source": [
    "model = model.bind_tools(tools)"
   ]
  },
  {
   "cell_type": "markdown",
   "id": "e03c5094-9297-4d19-a04e-3eedc75cefb4",
   "metadata": {},
   "source": [
    "## Define the nodes\n",
    "\n",
    "We now need to define a few different nodes in our graph.\n",
    "In `langgraph`, a node can be either a function or a [runnable](https://python.langchain.com/docs/expression_language/).\n",
    "There are two main nodes we need for this:\n",
    "\n",
    "1. The agent: responsible for deciding what (if any) actions to take.\n",
    "2. A function to invoke tools: if the agent decides to take an action, this node will then execute that action.\n",
    "\n",
    "We will also need to define some edges.\n",
    "Some of these edges may be conditional.\n",
    "The reason they are conditional is that based on the output of a node, one of several paths may be taken.\n",
    "The path that is taken is not known until that node is run (the LLM decides).\n",
    "\n",
    "1. Conditional Edge: after the agent is called, we should either:\n",
    "   a. If the agent said to take an action, then the function to invoke tools should be called\n",
    "   b. If the agent said that it was finished, then it should finish\n",
    "2. Normal Edge: after the tools are invoked, it should always go back to the agent to decide what to do next\n",
    "\n",
    "Let's define the nodes, as well as a function to decide how what conditional edge to take."
   ]
  },
  {
   "cell_type": "code",
   "execution_count": 34,
   "id": "3b541bb9-900c-40d0-964d-7b5dfee30667",
   "metadata": {},
   "outputs": [],
   "source": [
    "from typing import Literal\n",
    "\n",
    "\n",
    "# Define the function that determines whether to continue or not\n",
    "def should_continue(state: State) -> Literal[\"continue\", \"end\"]:\n",
    "    last_message = state[\"messages\"][-1]\n",
    "    # If there is no function call, then we finish\n",
    "    if not last_message.tool_calls:\n",
    "        return \"end\"\n",
    "    # Otherwise if there is, we continue\n",
    "    else:\n",
    "        return \"continue\""
   ]
  },
  {
   "cell_type": "markdown",
   "id": "ffd6e892-946c-4899-8cc0-7c9291c1f73b",
   "metadata": {},
   "source": [
    "## Define the graph\n",
    "\n",
    "We can now put it all together and define the graph!"
   ]
  },
  {
   "cell_type": "code",
   "execution_count": 35,
   "id": "812b4e70-4956-4415-8880-db48b3dcbad2",
   "metadata": {},
   "outputs": [],
   "source": [
    "from langgraph.graph import StateGraph, END\n",
    "\n",
    "# Define a new graph\n",
    "workflow = StateGraph(State)\n",
    "\n",
    "\n",
    "# Define the two nodes we will cycle between\n",
    "def call_model(state: State) -> State:\n",
    "    return {\"messages\": model.invoke(state[\"messages\"])}\n",
    "\n",
    "\n",
    "workflow.add_node(\"agent\", call_model)\n",
    "workflow.add_node(\"action\", tool_node)\n",
    "\n",
    "# Set the entrypoint as `agent`\n",
    "# This means that this node is the first one called\n",
    "workflow.set_entry_point(\"agent\")\n",
    "\n",
    "# We now add a conditional edge\n",
    "workflow.add_conditional_edges(\n",
    "    # First, we define the start node. We use `agent`.\n",
    "    # This means these are the edges taken after the `agent` node is called.\n",
    "    \"agent\",\n",
    "    # Next, we pass in the function that will determine which node is called next.\n",
    "    should_continue,\n",
    "    # Finally we pass in a mapping.\n",
    "    # The keys are strings, and the values are other nodes.\n",
    "    # END is a special node marking that the graph should finish.\n",
    "    # What will happen is we will call `should_continue`, and then the output of that\n",
    "    # will be matched against the keys in this mapping.\n",
    "    # Based on which one it matches, that node will then be called.\n",
    "    {\n",
    "        # If `tools`, then we call the tool node.\n",
    "        \"continue\": \"action\",\n",
    "        # Otherwise we finish.\n",
    "        \"end\": END,\n",
    "    },\n",
    ")\n",
    "\n",
    "# We now add a normal edge from `tools` to `agent`.\n",
    "# This means that after `tools` is called, `agent` node is called next.\n",
    "workflow.add_edge(\"action\", \"agent\")"
   ]
  },
  {
   "cell_type": "markdown",
   "id": "bc9c8536-f90b-44fa-958d-5df016c66d8f",
   "metadata": {},
   "source": [
    "**Persistence**\n",
    "\n",
    "To add in persistence, we pass in a checkpoint when compiling the graph"
   ]
  },
  {
   "cell_type": "code",
   "execution_count": 36,
   "id": "6845ed6a-d155-4105-9160-28849877248b",
   "metadata": {},
   "outputs": [],
   "source": [
    "from langgraph.checkpoint.sqlite import SqliteSaver\n",
    "\n",
    "memory = SqliteSaver.from_conn_string(\":memory:\")"
   ]
  },
  {
   "cell_type": "code",
   "execution_count": 37,
   "id": "79d29875-8aa8-434c-9f20-1c58346a6249",
   "metadata": {},
   "outputs": [],
   "source": [
    "# Finally, we compile it!\n",
    "# This compiles it into a LangChain Runnable,\n",
    "# meaning you can use it as you would any other runnable\n",
    "app = workflow.compile(checkpointer=memory)"
   ]
  },
  {
   "cell_type": "markdown",
   "id": "e8aff75b-563e-42b1-969b-742201514fc3",
   "metadata": {},
   "source": [
    "## Preview the graph"
   ]
  },
  {
   "cell_type": "code",
   "execution_count": 38,
   "id": "c9ab60eb-679b-4eef-9e64-5ffbf3dffc70",
   "metadata": {},
   "outputs": [
    {
     "data": {
      "image/jpeg": "[encoded data removed]",
      "text/plain": [
       "<IPython.core.display.Image object>"
      ]
     },
     "metadata": {},
     "output_type": "display_data"
    }
   ],
   "source": [
    "from IPython.display import Image, display\n",
    "\n",
    "try:\n",
    "    display(Image(app.get_graph().draw_mermaid_png()))\n",
    "except:\n",
    "    # This requires some extra dependencies and is optional\n",
    "    pass"
   ]
  },
  {
   "cell_type": "markdown",
   "id": "2a1b56c5-bd61-4192-8bdb-458a1e9f0159",
   "metadata": {},
   "source": [
    "## Interacting with the Agent\n",
    "\n",
    "We can now interact with the agent. Between interactions you can get and update state.\n"
   ]
  },
  {
   "cell_type": "code",
   "execution_count": 39,
   "id": "cfd140f0-a5a6-4697-8115-322242f197b5",
   "metadata": {},
   "outputs": [
    {
     "name": "stdout",
     "output_type": "stream",
     "text": [
      "================================\u001b[1m Human Message \u001b[0m=================================\n",
      "\n",
      "hi! I'm bob\n",
      "==================================\u001b[1m Ai Message \u001b[0m==================================\n",
      "\n",
      "Hello Bob, nice to meet you! How can I assist you today? Or, if you'd prefer, you can ask me anything you'd like. I'm happy to help in any way I can.\n"
     ]
    }
   ],
   "source": [
    "from langchain_core.messages import HumanMessage\n",
    "\n",
    "config = {\"configurable\": {\"thread_id\": \"2\"}}\n",
    "input_message = HumanMessage(content=\"hi! I'm bob\")\n",
    "for event in app.stream({\"messages\": [input_message]}, config, stream_mode=\"values\"):\n",
    "    event[\"messages\"][-1].pretty_print()"
   ]
  },
  {
   "cell_type": "markdown",
   "id": "9230c0a7-bab8-4327-a9b4-f21e7a28d32a",
   "metadata": {},
   "source": [
    "See LangSmith example run here https://smith.langchain.com/public/01c1d61c-6943-4db1-8afe-5366f083caf3/r\n",
    "\n",
    "Here you can see the \"agent\" node ran, and then \"should_continue\" returned \"end\" so the graph stopped execution there."
   ]
  },
  {
   "cell_type": "markdown",
   "id": "c161d511-0dc3-4824-b89e-0dbcf9a7a759",
   "metadata": {},
   "source": [
    "Let's now get the current state"
   ]
  },
  {
   "cell_type": "code",
   "execution_count": 40,
   "id": "23433643-d35d-4df4-80fe-a3002323cd4f",
   "metadata": {},
   "outputs": [
    {
     "data": {
      "text/plain": [
       "{'messages': [HumanMessage(content=\"hi! I'm bob\", id='73759daa-fd4c-43d8-9a47-8d89bddfce1c'),\n",
       "  AIMessage(content=\"Hello Bob, nice to meet you! How can I assist you today? Or, if you'd prefer, you can ask me anything you'd like. I'm happy to help in any way I can. \\n\", response_metadata={'is_blocked': False, 'safety_ratings': [{'blocked': False, 'category': 'HARM_CATEGORY_HATE_SPEECH', 'probability_label': 'NEGLIGIBLE'}, {'blocked': False, 'category': 'HARM_CATEGORY_DANGEROUS_CONTENT', 'probability_label': 'NEGLIGIBLE'}, {'blocked': False, 'category': 'HARM_CATEGORY_HARASSMENT', 'probability_label': 'NEGLIGIBLE'}, {'blocked': False, 'category': 'HARM_CATEGORY_SEXUALLY_EXPLICIT', 'probability_label': 'NEGLIGIBLE'}], 'usage_metadata': {'candidates_token_count': 47, 'prompt_token_count': 60, 'total_token_count': 107}}, id='run-d4917b96-49d0-419f-a6d8-a40ed28c3746-0')]}"
      ]
     },
     "execution_count": 40,
     "metadata": {},
     "output_type": "execute_result"
    }
   ],
   "source": [
    "app.get_state(config).values"
   ]
  },
  {
   "cell_type": "markdown",
   "id": "b894d739-d8b1-485b-841a-5cd997c111f9",
   "metadata": {},
   "source": [
    "The current state is the two messages we've seen above, 1. the HumanMessage we sent in, 2. the AIMessage we got back from the model.\n",
    "\n",
    "The `next` values are empty since the graph has terminated (transitioned to the `__end__`)."
   ]
  },
  {
   "cell_type": "code",
   "execution_count": 41,
   "id": "e2c2531f-6dda-444b-b2f5-bbd607251776",
   "metadata": {},
   "outputs": [
    {
     "data": {
      "text/plain": [
       "()"
      ]
     },
     "execution_count": 41,
     "metadata": {},
     "output_type": "execute_result"
    }
   ],
   "source": [
    "app.get_state(config).next"
   ]
  },
  {
   "cell_type": "markdown",
   "id": "98a953a5-7c04-4210-a6ea-bd42e8abd81c",
   "metadata": {},
   "source": [
    "The graph got to the end without interruptions, so the list of next nodes is empty."
   ]
  },
  {
   "cell_type": "markdown",
   "id": "7f117f21-cabc-4c6a-b89a-e673085bc067",
   "metadata": {},
   "source": [
    "### Let's get it to execute a tool"
   ]
  },
  {
   "cell_type": "code",
   "execution_count": 62,
   "id": "73eb35a7-b705-4d7b-9e4b-28f7e2130358",
   "metadata": {},
   "outputs": [
    {
     "name": "stdout",
     "output_type": "stream",
     "text": [
      "================================\u001b[1m Human Message \u001b[0m=================================\n",
      "\n",
      "what is the weather in singapore currently\n",
      "==================================\u001b[1m Ai Message \u001b[0m==================================\n",
      "Tool Calls:\n",
      "  tavily_search_results_json (ea92fdd3-efcf-4814-9fc5-72813b24528f)\n",
      " Call ID: ea92fdd3-efcf-4814-9fc5-72813b24528f\n",
      "  Args:\n",
      "    query: what is the weather in singapore currently\n",
      "=================================\u001b[1m Tool Message \u001b[0m=================================\n",
      "Name: tavily_search_results_json\n",
      "\n",
      "[{\"url\": \"https://www.weatherapi.com/\", \"content\": \"{'location': {'name': 'Singapore', 'region': '', 'country': 'Singapore', 'lat': 1.29, 'lon': 103.86, 'tz_id': 'Asia/Singapore', 'localtime_epoch': 1716375111, 'localtime': '2024-05-22 18:51'}, 'current': {'last_updated_epoch': 1716374700, 'last_updated': '2024-05-22 18:45', 'temp_c': 27.0, 'temp_f': 80.6, 'is_day': 1, 'condition': {'text': 'Heavy rain', 'icon': '//cdn.weatherapi.com/weather/64x64/day/308.png', 'code': 1195}, 'wind_mph': 2.2, 'wind_kph': 3.6, 'wind_degree': 250, 'wind_dir': 'WSW', 'pressure_mb': 1008.0, 'pressure_in': 29.77, 'precip_mm': 1.91, 'precip_in': 0.08, 'humidity': 89, 'cloud': 75, 'feelslike_c': 29.9, 'feelslike_f': 85.8, 'vis_km': 4.5, 'vis_miles': 2.0, 'uv': 6.0, 'gust_mph': 9.3, 'gust_kph': 15.0}}\"}, {\"url\": \"https://www.wunderground.com/hourly/sg/singapore/ISINGAPO204/date/2024-05-22\", \"content\": \"Singapore Weather Forecasts. Weather Underground provides local & long-range weather forecasts, weatherreports, maps & tropical weather conditions for the Singapore area. ... Wednesday 05/22 ...\"}, {\"url\": \"https://www.accuweather.com/en/sg/singapore/300597/current-weather/300597\", \"content\": \"Current weather in Singapore, Central Singapore, Singapore. Check current conditions in Singapore, Central Singapore, Singapore with radar, hourly, and more.\"}, {\"url\": \"https://www.timeanddate.com/weather/singapore/singapore\", \"content\": \"Current weather in Singapore and forecast for today, tomorrow, and next 14 days\"}, {\"url\": \"https://www.timeanddate.com/weather/singapore/singapore/hourly\", \"content\": \"Hour-by-Hour Forecast for Singapore, Singapore. Weather Today Weather Hourly 14 Day Forecast Yesterday/Past Weather Climate (Averages) Currently: 84 \\u00b0F. Passing clouds. (Weather station: Singapore / Paya Lebar, Singapore). See more current weather.\"}]\n",
      "==================================\u001b[1m Ai Message \u001b[0m==================================\n",
      "\n",
      "## Current weather in Singapore:\n",
      "\n",
      "The current weather in Singapore is **heavy rain** with a temperature of **27 degrees Celsius (80.6 degrees Fahrenheit)**. \n",
      "\n",
      "Here's a summary of the information I found from various sources:\n",
      "\n",
      "* **tavily_search_results_json:** This source reports **heavy rain** with a temperature of **27 degrees Celsius (80.6 degrees Fahrenheit)**.\n",
      "* **timeanddate.com:** This source also reports **heavy rain** with a temperature of **84 degrees Fahrenheit**.\n",
      "* **accuweather.com:** This source provides a link to the current weather in Singapore, which you can check out for more details.\n",
      "* **wunderground.com:** This source provides hourly weather forecasts for Singapore.\n",
      "\n",
      "Overall, it seems that it is currently raining heavily in Singapore with a warm temperature. \n",
      "\n",
      "Would you like me to check any of the other sources for more information, or do you have any other questions?\n"
     ]
    }
   ],
   "source": [
    "config = {\"configurable\": {\"thread_id\": \"2\"}}\n",
    "input_message = HumanMessage(content=\"what is the weather in singapore currently\")\n",
    "for event in app.stream({\"messages\": [input_message]}, config, stream_mode=\"values\"):\n",
    "    event[\"messages\"][-1].pretty_print()"
   ]
  },
  {
   "cell_type": "markdown",
   "id": "c0ebc4b8-b2cc-4394-bb5a-8964bafa8d2d",
   "metadata": {},
   "source": [
    "See LangSmith example run here https://smith.langchain.com/public/c33c04c5-f1f2-4977-9d7d-c48f28be7be2/r"
   ]
  },
  {
   "cell_type": "markdown",
   "id": "18d3141b-9f9a-4ad8-b475-400674848b16",
   "metadata": {},
   "source": [
    "We can see it planned the tool execution (ie the \"agent\" node), then \"should_continue\" edge returned \"continue\" so we proceeded to \"action\" node, which executed the tool, and then \"agent\" node emitted the final response, which made \"should_continue\" edge return \"end\". Let's see how we can have more control over this."
   ]
  },
  {
   "cell_type": "markdown",
   "id": "1c5d69cf-6de5-4a52-976a-3799aa39d6d5",
   "metadata": {},
   "source": [
    "### Pause before tools"
   ]
  },
  {
   "cell_type": "markdown",
   "id": "06aaa787-32fe-404b-abeb-5b2ed94309fd",
   "metadata": {},
   "source": [
    "If you notice below, we now will add `interrupt_before=[\"action\"]` - this means that before any actions are taken we pause. This is a great moment to allow the user to correct and update the state! This is very useful when you want to have a human-in-the-loop to validate (and potentially change) the action to take. "
   ]
  },
  {
   "cell_type": "code",
   "execution_count": 60,
   "id": "5a68afc0-606f-4294-a872-b2b563be0d69",
   "metadata": {},
   "outputs": [],
   "source": [
    "app_w_interrupt = workflow.compile(checkpointer=memory, interrupt_before=[\"action\"])"
   ]
  },
  {
   "cell_type": "code",
   "execution_count": 61,
   "id": "08ae8246-11d5-40e1-8567-361e5bef8917",
   "metadata": {},
   "outputs": [
    {
     "name": "stdout",
     "output_type": "stream",
     "text": [
      "================================\u001b[1m Human Message \u001b[0m=================================\n",
      "\n",
      "what is the weather in sf currently\n",
      "==================================\u001b[1m Ai Message \u001b[0m==================================\n",
      "\n",
      "I am sorry, I cannot fulfill this request. The available tools lack the desired functionality.\n"
     ]
    }
   ],
   "source": [
    "config = {\"configurable\": {\"thread_id\": \"4\"}}\n",
    "input_message = HumanMessage(content=\"what is the weather in sf currently\")\n",
    "for event in app_w_interrupt.stream(\n",
    "    {\"messages\": [input_message]}, config, stream_mode=\"values\"\n",
    "):\n",
    "    event[\"messages\"][-1].pretty_print()"
   ]
  },
  {
   "cell_type": "markdown",
   "id": "c53352c8-dcf7-48b5-940c-f75a279cb42c",
   "metadata": {},
   "source": [
    "See LangSmith example run here https://smith.langchain.com/public/22402055-a50e-4d82-8b3e-733c9d752bc5/r\n",
    "This time it executed the \"agent\" node same as before, and you can see in the LangSmith trace that \"should_continue\" returned \"continue\", but it paused execution per our setting above."
   ]
  },
  {
   "cell_type": "markdown",
   "id": "7d9fa4f0-fb7d-47a7-b77e-464e8b619273",
   "metadata": {},
   "source": [
    "Notice that this time, the `next` value is populated with `action`. That means that if we resume the graph, it will start at the `action` node."
   ]
  },
  {
   "cell_type": "code",
   "execution_count": 45,
   "id": "5a53df78-6c25-4176-b049-02a02a713771",
   "metadata": {},
   "outputs": [
    {
     "data": {
      "text/plain": [
       "()"
      ]
     },
     "execution_count": 45,
     "metadata": {},
     "output_type": "execute_result"
    }
   ],
   "source": [
    "current_values = app_w_interrupt.get_state(config)\n",
    "current_values.next"
   ]
  },
  {
   "cell_type": "markdown",
   "id": "a901e2d1-dcf4-470c-88c0-2e4c91307f69",
   "metadata": {},
   "source": [
    "Because we asked to interrupt the graph before getting to the action node, the next node to execute, if we were to resume, would be the \"action\" node."
   ]
  },
  {
   "cell_type": "code",
   "execution_count": 46,
   "id": "9bad3f92-a3b9-4370-a1f5-0b78d1b67602",
   "metadata": {},
   "outputs": [
    {
     "data": {
      "text/plain": [
       "[]"
      ]
     },
     "execution_count": 46,
     "metadata": {},
     "output_type": "execute_result"
    }
   ],
   "source": [
    "current_values.values[\"messages\"][-1].tool_calls"
   ]
  },
  {
   "cell_type": "markdown",
   "id": "b2b7af00-035c-44e6-a76a-a4b83340b32b",
   "metadata": {},
   "source": [
    "Let's update the search string before proceeding"
   ]
  },
  {
   "cell_type": "code",
   "execution_count": null,
   "id": "060e2e33-1f6a-40ef-850e-161b308986fb",
   "metadata": {},
   "outputs": [],
   "source": [
    "current_values.values[\"messages\"][-1].tool_calls[0][\"args\"][\n",
    "    \"query\"\n",
    "] = \"weather in San Francisco today\""
   ]
  },
  {
   "cell_type": "code",
   "execution_count": 48,
   "id": "3210d003-e20e-47fa-b4f4-402fed7409f1",
   "metadata": {},
   "outputs": [
    {
     "data": {
      "text/plain": [
       "{'configurable': {'thread_id': '4',\n",
       "  'thread_ts': '1ef1828e-a70c-6105-8002-db5f0c110d66'}}"
      ]
     },
     "execution_count": 48,
     "metadata": {},
     "output_type": "execute_result"
    }
   ],
   "source": [
    "app_w_interrupt.update_state(config, current_values.values)"
   ]
  },
  {
   "cell_type": "markdown",
   "id": "0a21b87a-319c-4a93-9ac1-a3c6ad3f5400",
   "metadata": {},
   "source": [
    "This actually produces a LangSmith run too! See it here https://smith.langchain.com/public/9d86718b-333e-4175-bec0-9a64cdd01dc3/r\n",
    "\n",
    "This is a shorter run that allows you to inspect the edges that reacted to the state update, you can see \"should_continue\" returned \"continue\" as before, given this is still a function call."
   ]
  },
  {
   "cell_type": "markdown",
   "id": "3613f445-cf46-46a0-b7c1-e83a02aae96f",
   "metadata": {},
   "source": [
    "The current state now reflects our updated search query!"
   ]
  },
  {
   "cell_type": "code",
   "execution_count": 49,
   "id": "4a7dfaab-bfa7-47c7-8b93-2b06b3560809",
   "metadata": {},
   "outputs": [
    {
     "data": {
      "text/plain": [
       "{'messages': [HumanMessage(content='what is the weather in sf currently', id='72fb394a-abcc-4f99-a4c8-4a69ffaa2cf4'),\n",
       "  AIMessage(content='I am sorry, I cannot fulfill this request. The available tools lack the desired functionality.', response_metadata={'is_blocked': False, 'safety_ratings': [{'blocked': False, 'category': 'HARM_CATEGORY_HATE_SPEECH', 'probability_label': 'NEGLIGIBLE'}, {'blocked': False, 'category': 'HARM_CATEGORY_DANGEROUS_CONTENT', 'probability_label': 'NEGLIGIBLE'}, {'blocked': False, 'category': 'HARM_CATEGORY_HARASSMENT', 'probability_label': 'NEGLIGIBLE'}, {'blocked': False, 'category': 'HARM_CATEGORY_SEXUALLY_EXPLICIT', 'probability_label': 'NEGLIGIBLE'}], 'usage_metadata': {'candidates_token_count': 18, 'prompt_token_count': 61, 'total_token_count': 79}}, id='run-44a7b791-fad4-4374-9653-305da97f3279-0')]}"
      ]
     },
     "execution_count": 49,
     "metadata": {},
     "output_type": "execute_result"
    }
   ],
   "source": [
    "app_w_interrupt.get_state(config).values"
   ]
  },
  {
   "cell_type": "code",
   "execution_count": 50,
   "id": "77d73f33-93cb-41db-b6bb-81697569fdb0",
   "metadata": {},
   "outputs": [
    {
     "data": {
      "text/plain": [
       "()"
      ]
     },
     "execution_count": 50,
     "metadata": {},
     "output_type": "execute_result"
    }
   ],
   "source": [
    "app_w_interrupt.get_state(config).next"
   ]
  },
  {
   "cell_type": "markdown",
   "id": "27304085-4e44-48bc-afa5-d7ab6da4bb8c",
   "metadata": {},
   "source": [
    "If we start the agent again it will pick up from the state we updated."
   ]
  },
  {
   "cell_type": "code",
   "execution_count": null,
   "id": "273d56a8-f40f-4a51-a27f-7c6bb2bda0ba",
   "metadata": {},
   "outputs": [],
   "source": [
    "for event in app_w_interrupt.stream(None, config):\n",
    "    for v in event.values():\n",
    "        print(v)"
   ]
  },
  {
   "cell_type": "markdown",
   "id": "14d288a5-1027-4a12-898c-1c6bfcc19bb6",
   "metadata": {},
   "source": [
    "See this run in LangSmith here https://smith.langchain.com/public/8262c0f9-0701-4d73-95f6-2a32f6d3f96a/r\n",
    "\n",
    "This continues where we left off, with \"action\" node, followed by \"agent\" node, which terminates the execution."
   ]
  },
  {
   "cell_type": "markdown",
   "id": "1c38c505-6cee-427f-9dcd-493a2ade7ebb",
   "metadata": {},
   "source": [
    "## Checking history\n",
    "\n",
    "Let's browse the history of this thread, from newest to oldest."
   ]
  },
  {
   "cell_type": "code",
   "execution_count": null,
   "id": "8578a66d-6489-4e03-8c23-fd0530278455",
   "metadata": {},
   "outputs": [],
   "source": [
    "for state in app_w_interrupt.get_state_history(config):\n",
    "    print(state)\n",
    "    print(\"--\")\n",
    "    if len(state.values[\"messages\"]) == 2:\n",
    "        to_replay = state"
   ]
  },
  {
   "cell_type": "markdown",
   "id": "0ec41c37-7c09-4cc7-8475-bf373fe66584",
   "metadata": {},
   "source": [
    "We can go back to any of these states and restart the agent from there!"
   ]
  },
  {
   "cell_type": "code",
   "execution_count": null,
   "id": "21e7fc18-6fd9-4e11-a84b-e0325c9640c8",
   "metadata": {},
   "outputs": [],
   "source": [
    "to_replay.values"
   ]
  },
  {
   "cell_type": "code",
   "execution_count": 54,
   "id": "d4b01634-0041-4632-8d1f-5464580e54f5",
   "metadata": {},
   "outputs": [
    {
     "data": {
      "text/plain": [
       "()"
      ]
     },
     "execution_count": 54,
     "metadata": {},
     "output_type": "execute_result"
    }
   ],
   "source": [
    "to_replay.next"
   ]
  },
  {
   "cell_type": "markdown",
   "id": "29da43ea-9295-43e2-b164-0eb28d96749c",
   "metadata": {},
   "source": [
    "### Replay a past state\n",
    "\n",
    "To replay from this place we just need to pass its config back to the agent."
   ]
  },
  {
   "cell_type": "code",
   "execution_count": null,
   "id": "e986f94f-706f-4b6f-b3c4-f95483b9e9b8",
   "metadata": {},
   "outputs": [],
   "source": [
    "for event in app_w_interrupt.stream(None, to_replay.config):\n",
    "    for v in event.values():\n",
    "        print(v)"
   ]
  },
  {
   "cell_type": "markdown",
   "id": "8b4b81dd-1108-4ab7-b680-3f641b3efa70",
   "metadata": {},
   "source": [
    "See this run in LangSmith here https://smith.langchain.com/public/f26e9e1d-16df-48ae-98f7-c823d6942bf7/r\n",
    "\n",
    "This is similar to the previous run, this time with the original search query, instead of our modified one. "
   ]
  },
  {
   "cell_type": "markdown",
   "id": "59910951-fae1-4475-8511-f622439b590d",
   "metadata": {},
   "source": [
    "### Branch off a past state\n",
    "\n",
    "Using LangGraph's checkpointing, you can do more than just replay past states. You can branch off previous locations to let the agent explore alternate trajectories or to let a user \"version control\" changes in a workflow."
   ]
  },
  {
   "cell_type": "code",
   "execution_count": 56,
   "id": "b084f141-5800-487b-b115-d2e58421b963",
   "metadata": {},
   "outputs": [],
   "source": [
    "from langchain_core.messages import AIMessage\n",
    "\n",
    "branch_config = app_w_interrupt.update_state(\n",
    "    to_replay.config,\n",
    "    {\n",
    "        \"messages\": [\n",
    "            AIMessage(content=\"All done here!\", id=to_replay.values[\"messages\"][-1].id)\n",
    "        ]\n",
    "    },\n",
    ")"
   ]
  },
  {
   "cell_type": "code",
   "execution_count": 57,
   "id": "1a7cfcd4-289e-419e-8b49-dfaef4f88641",
   "metadata": {},
   "outputs": [],
   "source": [
    "branch_state = app_w_interrupt.get_state(branch_config)"
   ]
  },
  {
   "cell_type": "code",
   "execution_count": 58,
   "id": "5198f9c1-d2d4-458a-993d-3caa55810b1e",
   "metadata": {},
   "outputs": [
    {
     "data": {
      "text/plain": [
       "{'messages': [HumanMessage(content='what is the weather in sf currently', id='72fb394a-abcc-4f99-a4c8-4a69ffaa2cf4'),\n",
       "  AIMessage(content='All done here!', id='run-44a7b791-fad4-4374-9653-305da97f3279-0')]}"
      ]
     },
     "execution_count": 58,
     "metadata": {},
     "output_type": "execute_result"
    }
   ],
   "source": [
    "branch_state.values"
   ]
  },
  {
   "cell_type": "code",
   "execution_count": 59,
   "id": "5d89d55d-db84-4c2d-828b-64a29a69947b",
   "metadata": {},
   "outputs": [
    {
     "data": {
      "text/plain": [
       "()"
      ]
     },
     "execution_count": 59,
     "metadata": {},
     "output_type": "execute_result"
    }
   ],
   "source": [
    "branch_state.next"
   ]
  },
  {
   "cell_type": "markdown",
   "id": "cc168c90-a374-4280-a9a6-8bc232dbb006",
   "metadata": {},
   "source": [
    "You can see the snapshot was updated and now correctly reflects that there is no next step.\n",
    "\n",
    "You can see this in LangSmith update run here https://smith.langchain.com/public/65104717-6eda-4a0f-93c1-4755c6f929ed/r\n",
    "\n",
    "This shows the \"should_continue\" edge now reacting to this replaced message, and now changing the outcome to \"end\" which finishes the computation."
   ]
  },
  {
   "cell_type": "markdown",
   "id": "aa5d76b6-b01d-47b1-84ed-bd646dfeb489",
   "metadata": {},
   "source": [
    "### "
   ]
  },
  {
   "cell_type": "markdown",
   "id": "ffe5361c-c2b3-44b8-98a7-cbbd1f89dab3",
   "metadata": {},
   "source": [
    "### Please delete this section -- its for anthopic testing "
   ]
  },
  {
   "cell_type": "markdown",
   "id": "689ea233-ebe9-4295-8a37-275de1023ba5",
   "metadata": {
    "tags": []
   },
   "source": [
    "### !pip install anthropic"
   ]
  },
  {
   "cell_type": "code",
   "execution_count": null,
   "id": "5819e47d-93cc-46f4-a46f-48a79dc24387",
   "metadata": {
    "tags": []
   },
   "outputs": [],
   "source": [
    "import re\n",
    "\n",
    "PROJECT_ID = !(gcloud config get-value core/project)\n",
    "PROJECT_ID = PROJECT_ID[0]\n",
    "\n",
    "SVC_ACC = !(gcloud config get-value core/account)\n",
    "SVC_ACC = SVC_ACC[0]\n",
    "\n",
    "PROJECT_NUMBER=str(re.search(r'\\d+', SVC_ACC).group())\n",
    "\n",
    "LOCATION=\"us-central1\"\n",
    "\n",
    "FOLDER_NAME=\".\""
   ]
  },
  {
   "cell_type": "code",
   "execution_count": null,
   "id": "d0cef450-ff57-4cdc-b3d0-5a43d181d1f0",
   "metadata": {
    "tags": []
   },
   "outputs": [],
   "source": [
    "from anthropic import AnthropicVertex\n",
    "\n",
    "LOCATION=\"us-central1\" # or \"europe-west4\"\n",
    "\n",
    "client = AnthropicVertex(region=LOCATION, project_id=PROJECT_ID)\n",
    "\n",
    "\n",
    "import time\n",
    "\n",
    "start_time = time.time()\n",
    "\n",
    "\n",
    "message = client.messages.create(\n",
    "  max_tokens=1024,\n",
    "  messages=[\n",
    "    {\n",
    "      \"role\": \"user\",\n",
    "      \"content\": \"Send me a recipe for banana bread.\",\n",
    "    }\n",
    "  ],\n",
    "  model=\"claude-3-haiku@20240307\",\n",
    ")\n",
    "\n",
    "# Your code here\n",
    "end_time = time.time()\n",
    "\n",
    "print(\"Elapsed time:\", end_time - start_time)\n",
    "\n",
    "print(message.model_dump_json(indent=2))"
   ]
  },
  {
   "cell_type": "code",
   "execution_count": null,
   "id": "de75ba15-03e4-4a5a-b5fd-74af6186d716",
   "metadata": {
    "tags": []
   },
   "outputs": [],
   "source": [
    "from anthropic import AnthropicVertex\n",
    "\n",
    "LOCATION=\"asia-southeast1\" # or \"us-central1\"\n",
    "\n",
    "client = AnthropicVertex(region=LOCATION, project_id=PROJECT_ID)\n",
    "\n",
    "\n",
    "import time\n",
    "\n",
    "start_time = time.time()\n",
    "\n",
    "\n",
    "message = client.messages.create(\n",
    "  max_tokens=1024,\n",
    "  messages=[\n",
    "    {\n",
    "      \"role\": \"user\",\n",
    "      \"content\": \"Send me a recipe for banana bread.\",\n",
    "    }\n",
    "  ],\n",
    "  model=\"claude-3-sonnet@20240229\",\n",
    ")\n",
    "\n",
    "# Your code here\n",
    "end_time = time.time()\n",
    "\n",
    "print(\"Elapsed time Sonnet:\", end_time - start_time)\n",
    "\n",
    "print(message.model_dump_json(indent=2))"
   ]
  },
  {
   "cell_type": "code",
   "execution_count": null,
   "id": "d8eb54b2-83f1-4691-8544-3ae134a7123b",
   "metadata": {
    "scrolled": true,
    "tags": []
   },
   "outputs": [],
   "source": [
    "import pandas as pd\n",
    "import time\n",
    "from anthropic import AnthropicVertex, APIError\n",
    "\n",
    "# Configuration\n",
    "MAX_RETRIES = 3             # Maximum retry attempts for server errors\n",
    "RETRY_DELAY = 5             # Delay in seconds between retries\n",
    "\n",
    "# Client setup\n",
    "client = AnthropicVertex(region=LOCATION, project_id=PROJECT_ID)\n",
    "\n",
    "def measure_model_time(model_name, num_runs=10):\n",
    "    times = []\n",
    "    for _ in range(num_runs):\n",
    "        retries = 0\n",
    "        while retries < MAX_RETRIES:\n",
    "            try:\n",
    "                start_time = time.time()\n",
    "                # client.messages.create(\n",
    "                #     max_tokens=1024,\n",
    "                #     messages=[{\"role\": \"user\", \"content\": \"Send me a recipe for banana bread.\"}],\n",
    "                #     model=model_name,\n",
    "                # )\n",
    "                message = client.messages.create(\n",
    "                          max_tokens=1024,\n",
    "                          messages=[\n",
    "                            {\n",
    "                              \"role\": \"user\",\n",
    "                              \"content\": \"Send me a recipe for banana bread.\",\n",
    "                            }\n",
    "                          ],\n",
    "                          model=model_name,\n",
    "                        )\n",
    "                \n",
    "                end_time = time.time()\n",
    "                times.append(end_time - start_time)\n",
    "                break  # Exit retry loop on success\n",
    "            except APIError as e: # Catch the correct APIError\n",
    "                if e.status_code == 500:  # Check if it's an Internal Server Error\n",
    "                    print(f\"Error: {e}. Retrying in {RETRY_DELAY} seconds...\")\n",
    "                    retries += 1\n",
    "                    time.sleep(RETRY_DELAY)\n",
    "                else: \n",
    "                    raise e  # Re-raise other types of API errors\n",
    "        else:\n",
    "            raise Exception(f\"Max retries exceeded for model {model_name}\")\n",
    "    return times\n",
    "\n",
    "# Model comparison\n",
    "models = [\"claude-3-haiku@20240307\", \"claude-3-sonnet@20240229\"]\n",
    "results = {}\n",
    "for model in models:\n",
    "    results[model] = measure_model_time(model)\n",
    "\n",
    "df = pd.DataFrame(results)\n",
    "\n",
    "# Analysis and output\n",
    "print(df.describe())\n",
    "df.to_csv(\"model_response_times.csv\")\n"
   ]
  },
  {
   "cell_type": "code",
   "execution_count": null,
   "id": "45b499c0-8998-4b12-8db6-b7ad033e3332",
   "metadata": {
    "tags": []
   },
   "outputs": [],
   "source": [
    "df"
   ]
  },
  {
   "cell_type": "code",
   "execution_count": null,
   "id": "1ee2e3c6-9869-4d26-bcfa-87569eaaedba",
   "metadata": {},
   "outputs": [],
   "source": []
  }
 ],
 "metadata": {
  "environment": {
   "kernel": "conda-env-pytorch-pytorch",
   "name": "workbench-notebooks.m113",
   "type": "gcloud",
   "uri": "gcr.io/deeplearning-platform-release/workbench-notebooks:m113"
  },
  "kernelspec": {
   "display_name": "PyTorch 1-13 (Local)",
   "language": "python",
   "name": "conda-env-pytorch-pytorch"
  },
  "language_info": {
   "codemirror_mode": {
    "name": "ipython",
    "version": 3
   },
   "file_extension": ".py",
   "mimetype": "text/x-python",
   "name": "python",
   "nbconvert_exporter": "python",
   "pygments_lexer": "ipython3",
   "version": "3.10.13"
  }
 },
 "nbformat": 4,
 "nbformat_minor": 5
}
