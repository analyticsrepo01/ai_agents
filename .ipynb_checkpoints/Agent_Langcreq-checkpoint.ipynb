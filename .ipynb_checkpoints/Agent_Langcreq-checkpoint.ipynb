{
 "cells": [
  {
   "cell_type": "code",
   "execution_count": null,
   "id": "1060a7a0-5805-4a07-82cd-a4ef00c2ac3b",
   "metadata": {},
   "outputs": [],
   "source": []
  },
  {
   "cell_type": "code",
   "execution_count": 2,
   "id": "6de2d6de-1ac3-4764-ba6d-5fc683bc9038",
   "metadata": {
    "tags": []
   },
   "outputs": [],
   "source": [
    "import re\n",
    "\n",
    "PROJECT_ID = !(gcloud config get-value core/project)\n",
    "PROJECT_ID = PROJECT_ID[0]\n",
    "\n",
    "SVC_ACC = !(gcloud config get-value core/account)\n",
    "SVC_ACC = SVC_ACC[0]\n",
    "\n",
    "PROJECT_NUMBER=str(re.search(r'\\d+', SVC_ACC).group())\n",
    "\n",
    "LOCATION=\"asia-southeast1\"\n",
    "\n",
    "FOLDER_NAME=\".\""
   ]
  },
  {
   "cell_type": "code",
   "execution_count": 12,
   "id": "4c91e30b-82ef-44f0-a210-cd532001ac48",
   "metadata": {
    "tags": []
   },
   "outputs": [],
   "source": [
    "from crewai import Agent, Task, Crew, Process\n",
    "from crewai_tools import tool\n",
    "from crewai_tools.tools import FileReadTool\n",
    "import os, requests, re, mdpdf, subprocess\n",
    "\n",
    "from langchain.text_splitter import RecursiveCharacterTextSplitter\n",
    "from langchain_community.vectorstores import Chroma\n",
    "from langchain_community.tools import DuckDuckGoSearchRun\n"
   ]
  },
  {
   "cell_type": "code",
   "execution_count": 1,
   "id": "21ac7f85-398d-4fc2-973d-c4b5aa964cc9",
   "metadata": {
    "tags": []
   },
   "outputs": [],
   "source": [
    "import vertexai\n",
    "from vertexai.preview.generative_models import GenerativeModel, Part\n",
    "\n",
    "\n",
    "\n",
    "def generate_pro(input_prompt):\n",
    "    model = GenerativeModel(\"gemini-1.0-pro-002\") #gemini-1.5-pro-preview-0409\n",
    "    full_prompt = '''summarize the prompt below and do note prompt below will be send to imagen mode so please clean up any sensitve words and replace them into unblocked words like replace girl or lady can be replaced by female human and so on : ''' + input_prompt\n",
    "    responses = model.generate_content(\n",
    "    input_prompt,\n",
    "    generation_config={\n",
    "        \"max_output_tokens\": 8190,\n",
    "        \"temperature\": 0.2,\n",
    "        \"top_p\": 1\n",
    "    },stream=False,)\n",
    "    \n",
    "    # print (responses.text)\n",
    "    \n",
    "    return(responses.text)\n",
    "\n",
    "\n",
    "# input_prompt = '''\n",
    "# Action 'generateimage(chapter_content_and_character_details={'chapter_content': 'Panic ensued in the animal kingdom as Professor Hoot, the wise old owl, was called upon to investigate. The mystery deepened as they searched for clues to unravel the enigma of Zeke's missing stripes.', 'character_details': 'Professor Hoot is a wise old owl'})' don't exist, these are the only available Actions: generateimage: generateimage(chapter_content_and_character_details: 'string') -      Generates an image using Imagen for a given chapter content and character details.     \n",
    "\n",
    "# '''\n",
    "\n",
    "# generate_pro(input_prompt)"
   ]
  },
  {
   "cell_type": "code",
   "execution_count": 4,
   "id": "b6727b84-8d99-4efe-aee9-5ee1621c154b",
   "metadata": {
    "tags": []
   },
   "outputs": [],
   "source": [
    "from crewai import Agent, Task, Crew, Process\n",
    "from crewai_tools import tool\n",
    "# from langchain_vertexai import ChatGemini\n",
    "from crewai_tools.tools import FileReadTool\n",
    "import os, requests, re, mdpdf, subprocess\n",
    "from vertexai.preview.vision_models import ImageGenerationModel\n",
    "from langchain_google_vertexai import ChatVertexAI\n",
    "import uuid, os\n",
    "\n",
    "# Initialize Gemini LLM\n",
    "llm = ChatVertexAI(\n",
    "    model_name=\"gemini-1.0-pro-002\", # Replace with your desired Gemini model\n",
    "    project_id=os.getenv(PROJECT_ID), # Your Vertex AI project ID\n",
    "    location=\"us-central1\", # Your Vertex AI location\n",
    ")\n",
    "\n",
    "# Initialize Imagen model\n",
    "\n",
    "@tool\n",
    "def generateimage(chapter_content_and_character_details: str) -> str:\n",
    "    \"\"\"\n",
    "    Generates an image using Imagen for a given chapter content and character details.\n",
    "    \"\"\"\n",
    "    image_generation_model = ImageGenerationModel.from_pretrained(\"imagegeneration@006\")\n",
    "\n",
    "    chapter_content_and_character_details_refined = generate_pro(chapter_content_and_character_details)\n",
    "    \n",
    "    prompt = f\"Image is about: {chapter_content_and_character_details_refined}. Style: Illustration. Create an illustration incorporating a vivid palette with an emphasis on shades of azure and emerald, augmented by splashes of gold for contrast and visual interest. The style should evoke the intricate detail and whimsy of early 20th-century storybook illustrations, blending realism with fantastical elements to create a sense of wonder and enchantment. The composition should be rich in texture, with a soft, luminous lighting that enhances the magical atmosphere. Attention to the interplay of light and shadow will add depth and dimensionality, inviting the viewer to delve into the scene. DON'T include ANY text in this image. DON'T include colour palettes in this image.\"\n",
    "\n",
    "    response = image_generation_model.generate_images(\n",
    "        prompt=prompt,\n",
    "        aspect_ratio=\"1:1\",\n",
    "        number_of_images=1,\n",
    "        safety_filter_level=\"block_some\",\n",
    "        person_generation=\"allow_adult\",\n",
    "    )\n",
    "    \n",
    "    # image_url = response.images[0].url\n",
    "    image_url_name = str(uuid.uuid4())\n",
    "    \n",
    "    filepath = os.path.join(os.getcwd(), \"images1/\")\n",
    "\n",
    "    LOCAL_PATH_TO_IMAGE = filepath+image_url_name+\".jpg\"\n",
    "    response.images[0].save(location=image_url)\n",
    "    print(LOCAL_PATH_TO_IMAGE)\n",
    "\n",
    "    return(LOCAL_PATH_TO_IMAGE)"
   ]
  },
  {
   "cell_type": "code",
   "execution_count": 13,
   "id": "e949da99-fe5f-4fe0-b631-30bef2b5eaab",
   "metadata": {
    "tags": []
   },
   "outputs": [],
   "source": [
    "@tool(\"Search the internet\")\n",
    "def latest_trends(query):\n",
    "    \"\"\"Searches the internet for a given topic and returns relevant results.\"\"\"\n",
    "    url = f\"https://www.google.com/search?q={query}\"\n",
    "    #response = requests.get(url)\n",
    "    # Create a list to store the results\n",
    "    results = []\n",
    "    for j in search(query, tld=\"co.in\", num=10, stop=10, pause=2):\n",
    "        results.append(j)\n",
    "    return results\n",
    "\n",
    "search_tool = DuckDuckGoSearchRun()\n",
    "\n"
   ]
  },
  {
   "cell_type": "code",
   "execution_count": 23,
   "id": "1adcb413-32f2-4789-b8d7-8d16f527b82b",
   "metadata": {
    "tags": []
   },
   "outputs": [
    {
     "ename": "NameError",
     "evalue": "name 'file_read_tool' is not defined",
     "output_type": "error",
     "traceback": [
      "\u001b[0;31m---------------------------------------------------------------------------\u001b[0m",
      "\u001b[0;31mNameError\u001b[0m                                 Traceback (most recent call last)",
      "Cell \u001b[0;32mIn[23], line 31\u001b[0m\n\u001b[1;32m      4\u001b[0m \u001b[38;5;66;03m## Create Agents with goal, role, backstory and tools\u001b[39;00m\n\u001b[1;32m      5\u001b[0m \u001b[38;5;66;03m# idea_analyst = Agent(\u001b[39;00m\n\u001b[1;32m      6\u001b[0m \u001b[38;5;66;03m#  role=\"Senior Idea Analyst\",\u001b[39;00m\n\u001b[0;32m   (...)\u001b[0m\n\u001b[1;32m     12\u001b[0m \u001b[38;5;66;03m#    search_tool , search_tool]\u001b[39;00m\n\u001b[1;32m     13\u001b[0m \u001b[38;5;66;03m# )\u001b[39;00m\n\u001b[1;32m     15\u001b[0m idea_analyst \u001b[38;5;241m=\u001b[39m Agent(\n\u001b[1;32m     16\u001b[0m     role\u001b[38;5;241m=\u001b[39m\u001b[38;5;124m'\u001b[39m\u001b[38;5;124mStory Outliner\u001b[39m\u001b[38;5;124m'\u001b[39m,\n\u001b[1;32m     17\u001b[0m     goal\u001b[38;5;241m=\u001b[39m\u001b[38;5;124m'\u001b[39m\u001b[38;5;124mDevelop an outline for a children\u001b[39m\u001b[38;5;130;01m\\'\u001b[39;00m\u001b[38;5;124ms storybook about Animals, including chapter titles and characters for 5 chapters.\u001b[39m\u001b[38;5;124m'\u001b[39m,\n\u001b[0;32m   (...)\u001b[0m\n\u001b[1;32m     22\u001b[0m     tools\u001b[38;5;241m=\u001b[39m[search_tool]\n\u001b[1;32m     23\u001b[0m )\n\u001b[1;32m     25\u001b[0m content_formatter \u001b[38;5;241m=\u001b[39m Agent(\n\u001b[1;32m     26\u001b[0m     role\u001b[38;5;241m=\u001b[39m\u001b[38;5;124m'\u001b[39m\u001b[38;5;124mContent Formatter\u001b[39m\u001b[38;5;124m'\u001b[39m,\n\u001b[1;32m     27\u001b[0m     goal\u001b[38;5;241m=\u001b[39m\u001b[38;5;124m'\u001b[39m\u001b[38;5;124mFormat the written story content in markdown, including images at the beginning of each chapter.\u001b[39m\u001b[38;5;124m'\u001b[39m,\n\u001b[1;32m     28\u001b[0m     backstory\u001b[38;5;241m=\u001b[39m\u001b[38;5;124m'\u001b[39m\u001b[38;5;124mA meticulous formatter who enhances the readability and presentation of the storybook.\u001b[39m\u001b[38;5;124m'\u001b[39m,\n\u001b[1;32m     29\u001b[0m     verbose\u001b[38;5;241m=\u001b[39m\u001b[38;5;28;01mTrue\u001b[39;00m,\n\u001b[1;32m     30\u001b[0m     llm\u001b[38;5;241m=\u001b[39mllm,\n\u001b[0;32m---> 31\u001b[0m     tools\u001b[38;5;241m=\u001b[39m[\u001b[43mfile_read_tool\u001b[49m],\n\u001b[1;32m     32\u001b[0m     allow_delegation\u001b[38;5;241m=\u001b[39m\u001b[38;5;28;01mFalse\u001b[39;00m\n\u001b[1;32m     33\u001b[0m )\n\u001b[1;32m     36\u001b[0m \u001b[38;5;66;03m# communications_strategist = Agent(...) another agent\u001b[39;00m\n\u001b[1;32m     37\u001b[0m \n\u001b[1;32m     38\u001b[0m \u001b[38;5;66;03m## Create the tasks that will produce a fully formed idea proposal\u001b[39;00m\n\u001b[0;32m   (...)\u001b[0m\n\u001b[1;32m     41\u001b[0m \u001b[38;5;66;03m#     agent=idea_analyst\u001b[39;00m\n\u001b[1;32m     42\u001b[0m \u001b[38;5;66;03m# )\u001b[39;00m\n\u001b[1;32m     44\u001b[0m expand_idea_task \u001b[38;5;241m=\u001b[39m Task(\n\u001b[1;32m     45\u001b[0m     description\u001b[38;5;241m=\u001b[39m\u001b[38;5;124m'\u001b[39m\u001b[38;5;124mConvert a Markdown file to a PDF document, ensuring the preservation of formatting, structure, and embedded images using the mdpdf library.\u001b[39m\u001b[38;5;124m'\u001b[39m,\n\u001b[1;32m     46\u001b[0m     agent\u001b[38;5;241m=\u001b[39midea_analyst,\n\u001b[1;32m     47\u001b[0m     expected_output\u001b[38;5;241m=\u001b[39m\u001b[38;5;124m'\u001b[39m\u001b[38;5;124mA PDF file generated from the Markdown input, accurately reflecting the content with proper formatting. The PDF should be ready for sharing or printing.\u001b[39m\u001b[38;5;124m'\u001b[39m\n\u001b[1;32m     48\u001b[0m )\n",
      "\u001b[0;31mNameError\u001b[0m: name 'file_read_tool' is not defined"
     ]
    }
   ],
   "source": [
    "# ... early imports, tools, setting OpenAI API key, etc\n",
    "from crewai import Agent, Task, Crew\n",
    "from crewai_tools.tools import FileReadTool\n",
    "\n",
    "## Create Agents with goal, role, backstory and tools\n",
    "# idea_analyst = Agent(\n",
    "#  role=\"Senior Idea Analyst\",\n",
    "#  goal= \"Understand and expand upon the essence of ideas\",\n",
    "#  background_story=\"You're recognized as a thought leader\",\n",
    "#  verbose=True,\n",
    "#  llm=llm,\n",
    "#  tools=[\n",
    "#    search_tool , search_tool]\n",
    "# )\n",
    "file_read_tool = FileReadTool(\n",
    "    file_path='template.md',\n",
    "    description='A tool to read the Story Template file and understand the expected output format.'\n",
    ")\n",
    "\n",
    "idea_analyst = Agent(\n",
    "    role='Story Outliner',\n",
    "    goal='Develop an outline for a children\\'s storybook about Animals, including chapter titles and characters for 5 chapters.',\n",
    "    backstory=\"An imaginative creator who lays the foundation of captivating stories for children.\",\n",
    "    verbose=True,\n",
    "    llm=llm,\n",
    "    allow_delegation=False,\n",
    "    tools=[search_tool]\n",
    ")\n",
    "\n",
    "content_formatter = Agent(\n",
    "    role='Content Formatter',\n",
    "    goal='Format the written story content in markdown, including images at the beginning of each chapter.',\n",
    "    backstory='A meticulous formatter who enhances the readability and presentation of the storybook.',\n",
    "    verbose=True,\n",
    "    llm=llm,\n",
    "    tools=[file_read_tool],\n",
    "    allow_delegation=False\n",
    ")\n",
    "\n",
    "\n",
    "# communications_strategist = Agent(...) another agent\n",
    "\n",
    "## Create the tasks that will produce a fully formed idea proposal\n",
    "# expand_idea_task = Task(\n",
    "#     description=\"THIS IS A GREAT IDEA! Analyze it and conduct\",\n",
    "#     agent=idea_analyst\n",
    "# )\n",
    "\n",
    "expand_idea_task = Task(\n",
    "    description='Convert a Markdown file to a PDF document, ensuring the preservation of formatting, structure, and embedded images using the mdpdf library.',\n",
    "    agent=idea_analyst,\n",
    "    expected_output='A PDF file generated from the Markdown input, accurately reflecting the content with proper formatting. The PDF should be ready for sharing or printing.'\n",
    ")\n",
    "\n",
    "# refine_idea_task = Task(...) another task\n",
    "\n",
    "## Create the crew that will produce a fully formed idea proposal\n",
    "crew = Crew(\n",
    " agents=[idea_analyst, content_formatter],\n",
    " tasks=[expand_idea_task],\n",
    " verbose=True\n",
    ")\n",
    "\n",
    "final_improved_idea = crew.kickoff() # returns the final idea proposal"
   ]
  },
  {
   "cell_type": "code",
   "execution_count": null,
   "id": "1ec7d11a-789b-4adf-a58a-d376d37a291b",
   "metadata": {},
   "outputs": [],
   "source": []
  }
 ],
 "metadata": {
  "environment": {
   "kernel": "conda-root-py312",
   "name": "workbench-notebooks.m113",
   "type": "gcloud",
   "uri": "gcr.io/deeplearning-platform-release/workbench-notebooks:m113"
  },
  "kernelspec": {
   "display_name": "py312 (Local)",
   "language": "python",
   "name": "conda-root-py312"
  },
  "language_info": {
   "codemirror_mode": {
    "name": "ipython",
    "version": 3
   },
   "file_extension": ".py",
   "mimetype": "text/x-python",
   "name": "python",
   "nbconvert_exporter": "python",
   "pygments_lexer": "ipython3",
   "version": "3.12.1"
  }
 },
 "nbformat": 4,
 "nbformat_minor": 5
}
