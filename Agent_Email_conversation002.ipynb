{
 "cells": [
  {
   "cell_type": "code",
   "execution_count": 20,
   "id": "cd289544-3724-4da6-9aed-6bc2eeb3a123",
   "metadata": {
    "tags": []
   },
   "outputs": [],
   "source": [
    "# %pip install -U 'crewai[tools]' mdpdf \n",
    "# %pip install --upgrade --quiet  langchain-core langchain-google-vertexai\n",
    "# %pip install mdpdf"
   ]
  },
  {
   "cell_type": "code",
   "execution_count": 18,
   "id": "20e6d08f-8915-47df-bb86-99a1cce9b091",
   "metadata": {
    "tags": []
   },
   "outputs": [],
   "source": [
    "import re\n",
    "\n",
    "PROJECT_ID = !(gcloud config get-value core/project)\n",
    "PROJECT_ID = PROJECT_ID[0]\n",
    "\n",
    "SVC_ACC = !(gcloud config get-value core/account)\n",
    "SVC_ACC = SVC_ACC[0]\n",
    "\n",
    "PROJECT_NUMBER=str(re.search(r'\\d+', SVC_ACC).group())\n",
    "\n",
    "LOCATION=\"asia-southeast1\"\n",
    "\n",
    "FOLDER_NAME=\".\""
   ]
  },
  {
   "cell_type": "code",
   "execution_count": 19,
   "id": "73b19850-3565-46ec-9db0-2757427ec449",
   "metadata": {
    "tags": []
   },
   "outputs": [],
   "source": [
    "import vertexai\n",
    "from vertexai.preview.generative_models import GenerativeModel, Part\n",
    "\n",
    "from crewai import Agent, Task, Crew, Process\n",
    "from crewai_tools import tool\n",
    "# from langchain_vertexai import ChatGemini\n",
    "from crewai_tools.tools import FileReadTool\n",
    "import os, requests, re, mdpdf, subprocess\n",
    "from vertexai.preview.vision_models import ImageGenerationModel\n",
    "from langchain_google_vertexai import ChatVertexAI\n",
    "import uuid, os\n",
    "\n",
    "# Initialize Gemini LLM\n",
    "llm = ChatVertexAI(\n",
    "    model_name=\"gemini-pro\", # Replace with your desired Gemini model\n",
    "    project_id=os.getenv(PROJECT_ID), # Your Vertex AI project ID\n",
    "    location=\"us-central1\", # Your Vertex AI location\n",
    ")\n",
    "\n",
    "\n",
    "def generate_pro(input_prompt):\n",
    "    model = GenerativeModel(\"gemini-pro\")\n",
    "    full_prompt = '''summarize the prompt below and do note prompt below will be send to imagen mode so please clean up any sensitve words and replace them into unblocked words like replace girl or lady can be replaced by female human and so on : ''' + input_prompt\n",
    "    responses = model.generate_content(\n",
    "    input_prompt,\n",
    "    generation_config={\n",
    "        \"max_output_tokens\": 8190,\n",
    "        \"temperature\": 0.2,\n",
    "        \"top_p\": 1\n",
    "    },stream=False,)\n",
    "    \n",
    "    # print (responses.text)\n",
    "    \n",
    "    return(responses.text)\n",
    "\n"
   ]
  },
  {
   "cell_type": "code",
   "execution_count": 22,
   "id": "ad3f68d1-5beb-43e6-8653-626b5212b4b9",
   "metadata": {
    "tags": []
   },
   "outputs": [],
   "source": [
    "from crewai import Agent, Task, Crew, Process\n",
    "# from langchain_groq import ChatGroq\n",
    "from langchain.agents import  Tool\n",
    "from langchain.chains import LLMChain\n",
    "from langchain.memory import ConversationBufferMemory, ReadOnlySharedMemory\n",
    "from langchain.prompts import PromptTemplate\n",
    "from langchain_community.tools import DuckDuckGoSearchRun"
   ]
  },
  {
   "cell_type": "code",
   "execution_count": 23,
   "id": "ec9abe26-f7fb-4a5d-888d-b5fcccd5ab3a",
   "metadata": {
    "tags": []
   },
   "outputs": [],
   "source": [
    "template = \"\"\"This is a conversation between a human and ai agent:\n",
    "\n",
    "{chat_history}\n",
    "\n",
    "Write a summary of the conversation for {input}:\n",
    "\"\"\"\n",
    "\n",
    "prompt = PromptTemplate(input_variables=[\"input\", \"chat_history\"], template=template)\n",
    "memory = ConversationBufferMemory(memory_key=\"chat_history\")\n",
    "readonlymemory = ReadOnlySharedMemory(memory=memory)\n",
    "summary_chain = LLMChain(\n",
    "    llm=llm,\n",
    "    prompt=prompt,\n",
    "    verbose=True,\n",
    "    memory=readonlymemory,  # use the read-only memory to prevent the tool from modifying the memory\n",
    ")"
   ]
  },
  {
   "cell_type": "code",
   "execution_count": 24,
   "id": "ed67a0f1-c947-4d33-bcc9-ae09976ee032",
   "metadata": {
    "tags": []
   },
   "outputs": [],
   "source": [
    "#create searches\n",
    "search =  DuckDuckGoSearchRun()\n",
    "\n",
    "tool_use = [\n",
    "    Tool(\n",
    "        name=\"Search\",\n",
    "        func=search.run,\n",
    "        description=\"useful for when you need to answer questions about current events\",\n",
    "    ),\n",
    "    Tool(\n",
    "        name=\"Summary\",\n",
    "        func=summary_chain.run,\n",
    "        description=\"useful for when you summarize a conversation. The input to this tool should be a string, representing who will read this summary.\",\n",
    "    )\n",
    "    \n",
    "]\n",
    "\n",
    "tool_use_1 = [\n",
    "    Tool(\n",
    "        name=\"Summary\",\n",
    "        func=summary_chain.run,\n",
    "        description=\"useful for when you summarize a conversation. The input to this tool should be a string, representing who will read this summary.\",\n",
    "    )\n",
    "]"
   ]
  },
  {
   "cell_type": "code",
   "execution_count": 25,
   "id": "662602f0-ef14-4f15-9d2f-9d5dbcea84df",
   "metadata": {
    "tags": []
   },
   "outputs": [],
   "source": [
    "# Define Agents\n",
    "email_author = Agent(\n",
    "    role='Professional Email Author',\n",
    "    goal='Craft concise and engaging emails',\n",
    "    backstory='Experienced in writing impactful marketing emails.',\n",
    "    verbose=True,\n",
    "    allow_delegation=False,\n",
    "    llm=llm,\n",
    "    tools=tool_use\n",
    ")\n",
    "marketing_strategist = Agent(\n",
    "    role='Marketing Strategist',\n",
    "    goal='Lead the team in creating effective cold emails',\n",
    "    backstory='A seasoned Chief Marketing Officer with a keen eye for standout marketing content.',\n",
    "    verbose=True,\n",
    "    allow_delegation=True,\n",
    "    llm=llm,\n",
    "    tools=tool_use_1\n",
    ")\n",
    "\n",
    "content_specialist = Agent(\n",
    "    role='Content Specialist',\n",
    "    goal='Critique and refine email content',\n",
    "    backstory='A professional copywriter with a wealth of experience in persuasive writing.',\n",
    "    verbose=True,\n",
    "    allow_delegation=False,\n",
    "    llm=llm,\n",
    "    tools=tool_use_1\n",
    "    )\n"
   ]
  },
  {
   "cell_type": "code",
   "execution_count": 26,
   "id": "014c2767-1143-4c8e-b8ce-e79af72ce395",
   "metadata": {
    "tags": []
   },
   "outputs": [],
   "source": [
    "# Define Task\n",
    "email_task = Task(\n",
    "    description='''1. Generate two distinct variations of a cold email promoting a video editing solution. \n",
    "    2. Evaluate the written emails for their effectiveness and engagement.\n",
    "    3. Scrutinize the emails for grammatical correctness and clarity.\n",
    "    4. Adjust the emails to align with best practices for cold outreach. Consider the feedback \n",
    "    provided to the marketing_strategist.\n",
    "    5. Revise the emails based on all feedback, creating two final versions.''',\n",
    "    agent=marketing_strategist , # The Marketing Strategist is in charge and can delegate\n",
    "    expected_output='A structured email accourding to the instructions')"
   ]
  },
  {
   "cell_type": "code",
   "execution_count": null,
   "id": "45d72ea0-7391-42fe-a22e-fb5996671a1b",
   "metadata": {
    "tags": []
   },
   "outputs": [
    {
     "name": "stderr",
     "output_type": "stream",
     "text": [
      "2024-03-27 01:51:19,365 - 140400029751104 - __init__.py-__init__:521 - WARNING: Overriding of current TracerProvider is not allowed\n"
     ]
    },
    {
     "name": "stdout",
     "output_type": "stream",
     "text": [
      "Crew: Working on Email Task\n",
      "\u001b[1m\u001b[93m [DEBUG]: == Working Agent: Marketing Strategist\u001b[00m\n",
      "\u001b[1m\u001b[93m [INFO]: == Starting Task: 1. Generate two distinct variations of a cold email promoting a video editing solution. \n",
      "    2. Evaluate the written emails for their effectiveness and engagement.\n",
      "    3. Scrutinize the emails for grammatical correctness and clarity.\n",
      "    4. Adjust the emails to align with best practices for cold outreach. Consider the feedback \n",
      "    provided to the marketing_strategist.\n",
      "    5. Revise the emails based on all feedback, creating two final versions.\u001b[00m\n",
      "\n",
      "\n",
      "\u001b[1m> Entering new CrewAgentExecutor chain...\u001b[0m\n",
      "\u001b[32;1m\u001b[1;3mAction: Ask question to co-worker\n",
      "Action Input: {\n",
      "\"coworker\": \"Professional Email Author\",\n",
      "\"question\": \"What are some effective ways to grab attention in a cold email subject line?\",\n",
      "\"context\": \"\"\n",
      "}\u001b[0m\n",
      "\n",
      "\u001b[1m> Entering new CrewAgentExecutor chain...\u001b[0m\n",
      "\u001b[32;1m\u001b[1;3mAction: Search\n",
      "Action Input: {\"query\": \"how to write attention-grabbing email subject lines\"}\u001b[0m\u001b[93m \n",
      "\n",
      "3. Use Eye-catching words. When we say eye-catching, it doesn't mean you use caps lock and add clickbaity words like \"FREE\" and \"BUY NOW. Words like these trigger spam filters, and your email will get stuck in their spam folder. Klenty conducted a study by analyzing 200K+ cold email subject lines and gave the following tips to catch the ... Attention Grabbing Subject Lines for Sales Emails. Grabbing your prospect's attention is an art. You'll need to create a sense of urgency, speak to a specific pain point, or tantalize them with a favorable outcome. The subject lines below are a good fit for SaaS salespeople or any salesperson who needs a prospect to finally bite. Regardless of your goals, these are the essential elements that your subject line should possess. 1. Urgency. Creating a sense of urgency is an efficient way to get people to take action. Subject lines that use words like \"urgent,\" \"breaking,\" \"important,\" or \"alert\" have higher open rates. Step 3: Make the subject relevant. The first thing a reader sees is the email subject line. Ensure that it's a relevant topic or offer with a sense of urgency. Step 4: Create multiple variations. Write several subject lines using different wording and tones. You'll need several ideas to choose the best one. Using powerful words that evoke strong emotions, such as \"free,\" \"save,\" \"easy,\" \"win,\" and \"guaranteed\" can help grab people's attention and get them to open your email. strong verbs and action words like \"save\" and \"win\" to grab the recipient's attention and increase your email campaign's open rate.\n",
      "\u001b[00m\n",
      "\u001b[32;1m\u001b[1;3mThought: I now know the final answer\n",
      "Final Answer: **When writing engaging subject lines for cold emails, you should keep in mind some of the most effective practices:**\n",
      "\n",
      "3. Use Eye-catching words. When we say eye-catching, it doesn't mean you use caps lock and add clickbaity words like \"FREE\" and \"BUY NOW. Words like these trigger spam filters, and your email will get stuck in their spam folder. Klenty conducted a study by analyzing 200K+ cold email subject lines and gave the following tips to catch the ... Attention Grabbing Subject Lines for Sales Emails. Grabbing your prospect's attention is an art. You'll need to create a sense of urgency, speak to a specific pain point, or tantalize them with a favorable outcome. The subject lines below are a good fit for SaaS salespeople or any salesperson who needs a prospect to finally bite. Regardless of your goals, these are the essential elements that your subject line should possess. 1. Urgency. Creating a sense of urgency is an efficient way to get people to take action. Subject lines that use words like \"urgent,\" \"breaking,\" \"important,\" or \"alert\" have higher open rates. Step 3: Make the subject relevant. The first thing a reader sees is the email subject line. Ensure that it's a relevant topic or offer with a sense of urgency. Step 4: Create multiple variations. Write several subject lines using different wording and tones. You'll need several ideas to choose the best one. Using powerful words that evoke strong emotions, such as \"free,\" \"save,\" \"easy,\" \"win,\" and \"guaranteed\" can help grab people's attention and get them to open your email. strong verbs and action words like \"save\" and \"win\" to grab the recipient's attention and increase your email campaign's open rate.s open rate.\"}\u001b[0m\n",
      "\n",
      "\u001b[1m> Finished chain.\u001b[0m\n",
      "\u001b[93m \n",
      "\n",
      "**When writing engaging subject lines for cold emails, you should keep in mind some of the most effective practices:**\n",
      "\n",
      "3. Use Eye-catching words. When we say eye-catching, it doesn't mean you use caps lock and add clickbaity words like \"FREE\" and \"BUY NOW. Words like these trigger spam filters, and your email will get stuck in their spam folder. Klenty conducted a study by analyzing 200K+ cold email subject lines and gave the following tips to catch the ... Attention Grabbing Subject Lines for Sales Emails. Grabbing your prospect's attention is an art. You'll need to create a sense of urgency, speak to a specific pain point, or tantalize them with a favorable outcome. The subject lines below are a good fit for SaaS salespeople or any salesperson who needs a prospect to finally bite. Regardless of your goals, these are the essential elements that your subject line should possess. 1. Urgency. Creating a sense of urgency is an efficient way to get people to take action. Subject lines that use words like \"urgent,\" \"breaking,\" \"important,\" or \"alert\" have higher open rates. Step 3: Make the subject relevant. The first thing a reader sees is the email subject line. Ensure that it's a relevant topic or offer with a sense of urgency. Step 4: Create multiple variations. Write several subject lines using different wording and tones. You'll need several ideas to choose the best one. Using powerful words that evoke strong emotions, such as \"free,\" \"save,\" \"easy,\" \"win,\" and \"guaranteed\" can help grab people's attention and get them to open your email. strong verbs and action words like \"save\" and \"win\" to grab the recipient's attention and increase your email campaign's open rate.s open rate.\"}\n",
      "\u001b[00m\n",
      "\u001b[32;1m\u001b[1;3mThought: I need to evaluate the current email for any grammatical errors or clarity issues.\n",
      "Action: Ask question to co-worker\n",
      "Action Input: {\n",
      "\"coworker\": \"Content Specialist\",\n",
      "\"question\": \"Please review this email and let me know if there are any grammatical errors or clarity issues.\",\n",
      "\"context\": \"**Subject:** Editing Like a Pro: Unlock Your Video Editing Potential\n",
      "\n",
      "**Body:**\n",
      "\n",
      "Hi [Name],\n",
      "\n",
      "Are you ready to elevate your video editing skills and take them to the next level? Our comprehensive video editing solution is here to help you create stunning videos that will captivate your audience.\n",
      "\n",
      "With our user-friendly interface and powerful features, you can:\n",
      "\n",
      "* **Effortlessly edit videos** with drag-and-drop functionality\n",
      "* **Add professional-looking effects** with just a few clicks\n",
      "* **Create engaging videos** that will leave a lasting impression\n",
      "\n",
      "But don't just take our word for it. Here's what our satisfied customers have to say:\n",
      "\n",
      "* \"This software is a game-changer. It's so easy to use, and I'm now able to create videos that look like they were made by a pro.\" - John Smith\n",
      "* \"I highly recommend this editing solution. It's helped me save a lot of time and effort, and my videos now look amazing.\" - Jane Doe\n",
      "\n",
      "Don't miss out on this opportunity to upgrade your video editing skills. Sign up for a free trial today and start creating videos that will wow your audience.\n",
      "\n",
      "Sincerely,\n",
      "[Your Name]\"\n",
      "}\u001b[0m\u001b[32;1m\u001b[1;3mThought: I need to ask my coworker to generate two distinct variations of a cold email promoting a video editing solution.\n",
      "Action: Delegate work to co-worker\n",
      "Action Input: {\n",
      "\"coworker\": \"Professional Email Author\",\n",
      "\"task\": \"Generate two distinct variations of a cold email promoting a video editing solution.\",\n",
      "\"context\": \"Please make sure that the emails are engaging and attention-grabbing. Use a strong subject line and a clear call to action. Also, ensure that the emails are grammatically correct and easy to read.\"\n",
      "}\u001b[0m\n",
      "\n",
      "\u001b[1m> Entering new CrewAgentExecutor chain...\u001b[0m\n"
     ]
    }
   ],
   "source": [
    "# Create a Single Crew\n",
    "email_crew = Crew(\n",
    "    agents=[email_author, marketing_strategist, content_specialist],\n",
    "    tasks=[email_task],\n",
    "    verbose=True,\n",
    "    process=Process.sequential\n",
    ")\n",
    "\n",
    "# Execution Flow\n",
    "print(\"Crew: Working on Email Task\")\n",
    "emails_output = email_crew.kickoff()"
   ]
  },
  {
   "cell_type": "code",
   "execution_count": null,
   "id": "4d5825f7-2c34-448b-aad4-ce702a674109",
   "metadata": {},
   "outputs": [],
   "source": []
  }
 ],
 "metadata": {
  "environment": {
   "kernel": "conda-root-py312",
   "name": "workbench-notebooks.m113",
   "type": "gcloud",
   "uri": "gcr.io/deeplearning-platform-release/workbench-notebooks:m113"
  },
  "kernelspec": {
   "display_name": "py312 (Local)",
   "language": "python",
   "name": "conda-root-py312"
  },
  "language_info": {
   "codemirror_mode": {
    "name": "ipython",
    "version": 3
   },
   "file_extension": ".py",
   "mimetype": "text/x-python",
   "name": "python",
   "nbconvert_exporter": "python",
   "pygments_lexer": "ipython3",
   "version": "3.12.1"
  }
 },
 "nbformat": 4,
 "nbformat_minor": 5
}
